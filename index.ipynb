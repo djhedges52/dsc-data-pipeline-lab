{
 "cells": [
  {
   "cell_type": "markdown",
   "metadata": {},
   "source": [
    "### Objectives\n",
    "- To create a mock pipeline based on the business model that students choose\n",
    "\n",
    "### Introduction\n",
    "\n",
    "Based on the previous readings, we will simulate how we can best determine\n",
    "- The state of the current system (legacy)\n",
    "- Whether we should migrate the system to cloud\n",
    "- (Optional) Designing the architecture of the cloud system\n"
   ]
  },
  {
   "cell_type": "markdown",
   "metadata": {},
   "source": [
    "### Problem Statement\n",
    "Suppose you're a decision maker in the engineering team at an eCommerce company which currently generates millions of dollars in net revenue. You have a legacy system that sits on company's data centers in remote locations, away from the headquarter where your office is. The engineering team and the data analytics team have made the decision that they would like to build a search engine, recommendation engine, and few other engines that require heavy machine learning models to increase the revenue for the company. As a decision maker, you need to assess the current system, and the engineering requirement for the future fiscal years. So you decide to answer some questions and prepare answers for the next leadership meeting.\n",
    "\n",
    "\n",
    "Currently, the capability of the data center is limited based on the square footage of the location, as well as the hardware that can be stored in the square footage. The data center resource is not only shared in the engineering team, but also within the supply chain team, logistics, HR's IT platform, and also with some other internal operations, like marketing, leadership, and also analytics team. The data centers have maxed out in terms of the hardware that they can support, and may be in need of expanding and opening up another data center."
   ]
  },
  {
   "cell_type": "markdown",
   "metadata": {},
   "source": [
    "#### Assumptions when solving this problem\n",
    "\n",
    "- The problem statement merely states the current business problem you're facing. The design of the hypothetical data center, like square footage, hardware capabilities, human resources are all something you can create! The limitation is one thing to keep in mind, that in any data center(s), you have ran out of spaces to add more hardware.\n",
    "- You can assume based on the revenue the company is making how much data is being generated per day.\n",
    "- Be creative! If you're using third party data, i.e. Adobe Target for audience targeting, how are we receiving that data? Will that data sit on our data center and will it take up the resources? These are free constraints that you can create, but be realistic."
   ]
  },
  {
   "cell_type": "markdown",
   "metadata": {},
   "source": [
    "1. What is the current cost of maintaining the remote data center location?"
   ]
  },
  {
   "cell_type": "code",
   "execution_count": 1,
   "metadata": {},
   "outputs": [],
   "source": [
    "# 150K a year (IDK im bad at estimating numbers)"
   ]
  },
  {
   "cell_type": "markdown",
   "metadata": {},
   "source": [
    "2. What are the new business requirements from your engineering team? "
   ]
  },
  {
   "cell_type": "code",
   "execution_count": 2,
   "metadata": {},
   "outputs": [],
   "source": [
    "# your solution, but be creative! It doesn't have to limit to the requirement from the problem statement\n",
    "# Enough capability for X amount of storage, X amount of RAM, etc. (again, i'm bad at estimating numbers)\n",
    "# People to fill X roles in some researched based OP model  that I've definitely actually created\n",
    "# Cybersecurity that meets the standard metrics \n",
    "# Integration with the current system by X date, with posibility of transfering entire system to cloud by X date"
   ]
  },
  {
   "cell_type": "markdown",
   "metadata": {},
   "source": [
    "3. Based on the new business requirements, you decide that you need to start migrating (at least) your resources to the cloud system. What are some things that you may need to look into when considering migrating your legacy system to cloud?"
   ]
  },
  {
   "cell_type": "code",
   "execution_count": 3,
   "metadata": {},
   "outputs": [],
   "source": [
    "# Cybersecurity\n",
    "# Integration with other processes\n",
    "# Speed\n",
    "# IAM and roles are secure\n",
    "# Related to the last point, all the people are properly trained to secure their access keys, avoid phishing and other\n",
    "# schemes that target the employees, and proper cloud practices (like shutting off things to avoid unnecessary cost)\n",
    "# Which cloud provider to partner with\n",
    "# All the aaS options and which are best for this business case"
   ]
  },
  {
   "cell_type": "markdown",
   "metadata": {},
   "source": [
    "4. In the end, you'll need to pursuade leadership why you need to migrate a system to another place, i.e. cloud, when in the eyes of leadership, everything is working fine. Write out cons/pros based on the shared categories, like cost, human resources, etc."
   ]
  },
  {
   "cell_type": "code",
   "execution_count": 4,
   "metadata": {},
   "outputs": [],
   "source": [
    "# PROS:\n",
    "    # more capability\n",
    "    # scalability: only pay for what you need, don't need to dish out for another building if you need more\n",
    "    # outsource maintanence of servers to save money\n",
    "    # can use servers in different locations based on need\n",
    "    # a BUNCH of already made algorithms, models etc are available to make building these engines infinitely easier\n",
    "# CONS:\n",
    "    # rely on other company for cybersecurity (could be pro and con depending on how well you trust them)\n",
    "    # may not be easy to integrate with existing systems\n",
    "    # if you move everything over, what do you do with your servers and the people that maintan them? \n",
    "    # may not be as easy to customize to your needs as something you fully own\n",
    "    # not necessarily cheaper, depend on a lot of factors\n",
    "    # longer latency in connecting to cloud (depending on location)"
   ]
  },
  {
   "cell_type": "markdown",
   "metadata": {},
   "source": [
    "(OPTIONAL) This may require an engineering/software background. You have the same hypothetical machine learning architecture, but one on the legacy system and one on the cloud. Moving away from the business logic, what is the benefit on the engineering stack if we use the cloud? What can be problematic if we use the cloud?"
   ]
  },
  {
   "cell_type": "code",
   "execution_count": 5,
   "metadata": {},
   "outputs": [],
   "source": [
    "# your solution, attach a screenshot of a hypothetical architecture at a high level"
   ]
  },
  {
   "cell_type": "code",
   "execution_count": null,
   "metadata": {},
   "outputs": [],
   "source": []
  }
 ],
 "metadata": {
  "kernelspec": {
   "display_name": "Python 3",
   "language": "python",
   "name": "python3"
  },
  "language_info": {
   "codemirror_mode": {
    "name": "ipython",
    "version": 3
   },
   "file_extension": ".py",
   "mimetype": "text/x-python",
   "name": "python",
   "nbconvert_exporter": "python",
   "pygments_lexer": "ipython3",
   "version": "3.8.5"
  }
 },
 "nbformat": 4,
 "nbformat_minor": 5
}
